{
 "cells": [
  {
   "cell_type": "markdown",
   "metadata": {
    "slideshow": {
     "slide_type": "slide"
    }
   },
   "source": [
    "# Think-Pair-Share\n",
    "\n",
    "Think of a field of interest that you would like to work in after graduating from Flatiron school. Brainstorm a hypothesis test which you could design for that field. What would your hypothesis test measure? How would you design the test? What would the null hypothesis be? The alternative hypothesis?"
   ]
  },
  {
   "cell_type": "markdown",
   "metadata": {
    "slideshow": {
     "slide_type": "notes"
    }
   },
   "source": [
    "# Teacher:\n",
    "\n",
    "\n",
    "## Introduction\n",
    "\n",
    "## Think\n",
    "\n",
    "Ask students to think of a field of interest, and a potential application of hypothesis testing.\n",
    "\n",
    "If students are struggling to come up with initial ideas, offer some suggestions to individual students of regroup the class to present some initial examples. You can also start the class with examples, but doing so will redirect student thought and might also reduce the variance or creativity of ideas.\n",
    "\n",
    "Examples if students need a nudge:\n",
    "    * Pharmaceutical Companies: Drug A vs Drug B\n",
    "    * Website Design: Landing Pages, Movement/Progression through website [to Shopping Cart, etc.]\n",
    "    * Marketing Strategies\n",
    "        * Obama email A/B testing anecdote...\n",
    "    *Comparing micro-services:\n",
    "        * Google Maps vs Apple Maps (accuracy of time estimate, etc.)\n",
    "        * Quality of service: Internet Providers, AWS vs. Digital Ocean, etc.\n",
    "        \n",
    "## Pair\n",
    "\n",
    "Direct students to share their responses with their partner. Framing this with a small checklist of required components is also often a helpful structure. Such a checklist might look like this: \n",
    "\n",
    "* The scenario\n",
    "* The metric\n",
    "* The null hypothesis\n",
    "* The Alternative Hypothesis\n",
    "\n",
    "After about 5 minutes, direct student's with a second prompt (see second student slide):\n",
    "    * Write hypothetical measurements for your hypothesis test. Do these measurements cause you to accept or reject the null hypothesis? What did you set as alpha? How would you explain these results to a non-technical stakeholder while still conveying some of the detail and nuance in designing the test?\n",
    "\n",
    "## Share\n",
    "\n",
    "\n",
    "Record Student Responses here:\n",
    "(This can form a guide for future instructors and surface unique examples.)\n",
    "    * \n",
    "\n",
    "\n",
    "\n",
    "## Guiding the Discussion\n",
    "    While guiding the discussion, be sure students propose sensible and measurable A/B tests. From there, have students work with their partner to outline null and alternative hypotheses for their proposed scenario. "
   ]
  },
  {
   "cell_type": "markdown",
   "metadata": {
    "slideshow": {
     "slide_type": "slide"
    }
   },
   "source": [
    "## Hypothetical Results + Presenting Findings\n",
    "\n",
    "Write hypothetical measurements for your hypothesis test. Do these measurements cause you to accept or reject the null hypothesis? What are the implications of these results? How would you explain these results to a non-technical stakeholder while still conveying some of the detail and nuance in designing the test? Be sure to provide some details regarding your confidence level, sample size, and the \n",
    "business impacts of you experiment."
   ]
  },
  {
   "cell_type": "code",
   "execution_count": null,
   "metadata": {},
   "outputs": [],
   "source": []
  }
 ],
 "metadata": {
  "celltoolbar": "Slideshow",
  "kernelspec": {
   "display_name": "Python 3",
   "language": "python",
   "name": "python3"
  },
  "language_info": {
   "codemirror_mode": {
    "name": "ipython",
    "version": 3
   },
   "file_extension": ".py",
   "mimetype": "text/x-python",
   "name": "python",
   "nbconvert_exporter": "python",
   "pygments_lexer": "ipython3",
   "version": "3.7.3"
  }
 },
 "nbformat": 4,
 "nbformat_minor": 2
}
